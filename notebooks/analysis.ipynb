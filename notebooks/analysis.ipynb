{
 "cells": [
  {
   "cell_type": "code",
   "execution_count": null,
   "id": "43176426",
   "metadata": {},
   "outputs": [
    {
     "ename": "ModuleNotFoundError",
     "evalue": "No module named 'scripts.utils'",
     "output_type": "error",
     "traceback": [
      "\u001b[31m---------------------------------------------------------------------------\u001b[39m",
      "\u001b[31mModuleNotFoundError\u001b[39m                       Traceback (most recent call last)",
      "\u001b[36mCell\u001b[39m\u001b[36m \u001b[39m\u001b[32mIn[1]\u001b[39m\u001b[32m, line 6\u001b[39m\n\u001b[32m      4\u001b[39m \u001b[38;5;28;01mimport\u001b[39;00m\u001b[38;5;250m \u001b[39m\u001b[34;01mpandas\u001b[39;00m\u001b[38;5;250m \u001b[39m\u001b[38;5;28;01mas\u001b[39;00m\u001b[38;5;250m \u001b[39m\u001b[34;01mpd\u001b[39;00m\n\u001b[32m      5\u001b[39m \u001b[38;5;28;01mimport\u001b[39;00m\u001b[38;5;250m \u001b[39m\u001b[34;01mnumpy\u001b[39;00m\u001b[38;5;250m \u001b[39m\u001b[38;5;28;01mas\u001b[39;00m\u001b[38;5;250m \u001b[39m\u001b[34;01mnp\u001b[39;00m\n\u001b[32m----> \u001b[39m\u001b[32m6\u001b[39m \u001b[38;5;28;01mfrom\u001b[39;00m\u001b[38;5;250m \u001b[39m\u001b[34;01mscripts\u001b[39;00m\u001b[34;01m.\u001b[39;00m\u001b[34;01mutils\u001b[39;00m\u001b[38;5;250m \u001b[39m\u001b[38;5;28;01mimport\u001b[39;00m make_project_dirs, save_histplot, save_boxplot, save_figure\n\u001b[32m      9\u001b[39m \u001b[38;5;66;03m# ML Libraries\u001b[39;00m\n\u001b[32m     10\u001b[39m \u001b[38;5;28;01mfrom\u001b[39;00m\u001b[38;5;250m \u001b[39m\u001b[34;01msklearn\u001b[39;00m\u001b[34;01m.\u001b[39;00m\u001b[34;01mmodel_selection\u001b[39;00m\u001b[38;5;250m \u001b[39m\u001b[38;5;28;01mimport\u001b[39;00m train_test_split, cross_val_score\n",
      "\u001b[31mModuleNotFoundError\u001b[39m: No module named 'scripts.utils'"
     ]
    }
   ],
   "source": [
    "#Imports and Setup\n",
    "\n",
    "import os\n",
    "import pandas as pd\n",
    "import numpy as np\n",
    "import sys\n",
    "sys.path.append('../scripts')\n",
    "from utils import make_project_dirs, save_histplot, save_boxplot, save_figure\n",
    "\n",
    "\n",
    "# ML Libraries\n",
    "from sklearn.model_selection import train_test_split, cross_val_score\n",
    "from sklearn.preprocessing import StandardScaler\n",
    "from sklearn.ensemble import RandomForestClassifier\n",
    "from sklearn.metrics import classification_report, confusion_matrix, roc_auc_score, RocCurveDisplay\n",
    "from sklearn.linear_model import LogisticRegression\n",
    "from sklearn.neighbors import KNeighborsClassifier\n",
    "from sklearn.svm import SVC\n",
    "\n",
    "import matplotlib.pyplot as plt\n",
    "import seaborn as sns\n",
    "\n",
    "# Ensure outputs/figures folders exist\n",
    "make_project_dirs()"
   ]
  },
  {
   "cell_type": "code",
   "execution_count": null,
   "id": "ae4e014d",
   "metadata": {},
   "outputs": [],
   "source": [
    "#Load Data\n",
    "\n",
    "DATA_PATH = '../data/pollution_us_2000_2016.csv'   # Adjust path if running from project root\n",
    "\n",
    "df = pd.read_csv(DATA_PATH)\n",
    "df.head()"
   ]
  },
  {
   "cell_type": "code",
   "execution_count": null,
   "id": "ef605b5c",
   "metadata": {},
   "outputs": [],
   "source": [
    "#EDA - Structure & Missing Values\n",
    "\n",
    "print(df.info())\n",
    "print(df.describe())\n",
    "print(df.isnull().sum())\n",
    "\n",
    "# Optional: Save missing values as CSV for report\n",
    "df.isnull().sum().to_csv('outputs/missing_values_summary.csv')"
   ]
  },
  {
   "cell_type": "code",
   "execution_count": null,
   "id": "02f2ff43",
   "metadata": {},
   "outputs": [],
   "source": [
    "#Data Cleaning\n",
    "\n",
    "# Drop columns with excessive missing data, or fill if appropriate\n",
    "df = df.dropna(subset=[\"Ozone Mean\", \"CO Mean\", \"NO2 Mean\", \"SO2 Mean\", \"PM2.5 Mean\"])\n",
    "df = df.copy()  # Prevent SettingWithCopyWarning\n",
    "\n",
    "# Convert 'Date Local' to datetime\n",
    "df['Date Local'] = pd.to_datetime(df['Date Local'])\n",
    "\n",
    "# Save cleaned sample for report\n",
    "df.sample(100).to_csv('outputs/cleaned_sample.csv', index=False)"
   ]
  },
  {
   "cell_type": "code",
   "execution_count": null,
   "id": "1b0962fa",
   "metadata": {},
   "outputs": [],
   "source": [
    "#EDA Visualizations\n",
    "\n",
    "save_histplot(df[\"Ozone Mean\"], \"Ozone Mean Distribution\", \"ozone_mean_distribution\")\n",
    "save_histplot(df[\"PM2.5 Mean\"], \"PM2.5 Mean Distribution\", \"pm25_mean_distribution\")\n",
    "save_boxplot(df[\"Ozone Mean\"], \"Ozone Mean Boxplot\", \"ozone_mean_boxplot\")\n",
    "save_boxplot(df[\"PM2.5 Mean\"], \"PM2.5 Mean Boxplot\", \"pm25_mean_boxplot\")\n",
    "\n",
    "# Show correlation heatmap in notebook (save manually if desired)\n",
    "plt.figure(figsize=(8,6))\n",
    "sns.heatmap(df[[\"Ozone Mean\", \"CO Mean\", \"NO2 Mean\", \"SO2 Mean\", \"PM2.5 Mean\"]].corr(), annot=True, cmap=\"BuGn\")\n",
    "plt.title(\"Feature Correlation Heatmap\")\n",
    "plt.tight_layout()\n",
    "plt.savefig(\"outputs/figures/eda/feature_correlation_heatmap.png\")\n",
    "plt.show()"
   ]
  },
  {
   "cell_type": "code",
   "execution_count": null,
   "id": "9f6150c2",
   "metadata": {},
   "outputs": [],
   "source": [
    "#Feature/Target Engineering\n",
    "\n",
    "# Example: Classify if Ozone Mean > EPA limit (0.070 ppm)\n",
    "df['Ozone_High'] = (df['Ozone Mean'] > 0.070).astype(int)\n",
    "\n",
    "features = [\"CO Mean\", \"NO2 Mean\", \"SO2 Mean\", \"PM2.5 Mean\"]\n",
    "target = \"Ozone_High\""
   ]
  },
  {
   "cell_type": "code",
   "execution_count": null,
   "id": "afe90ee2",
   "metadata": {},
   "outputs": [],
   "source": [
    "#Split & Scale\n",
    "\n",
    "X = df[features]\n",
    "y = df[target]\n",
    "\n",
    "X_train, X_test, y_train, y_test = train_test_split(X, y, test_size=0.3, random_state=42)\n",
    "\n",
    "scaler = StandardScaler()\n",
    "X_train = scaler.fit_transform(X_train)\n",
    "X_test = scaler.transform(X_test)"
   ]
  },
  {
   "cell_type": "code",
   "execution_count": null,
   "id": "4f012f19",
   "metadata": {},
   "outputs": [],
   "source": [
    "#Train and Evaluate Classifier\n",
    "\n",
    "clf = RandomForestClassifier(random_state=42)\n",
    "clf.fit(X_train, y_train)\n",
    "y_pred = clf.predict(X_test)\n",
    "\n",
    "# Metrics\n",
    "print(classification_report(y_test, y_pred))\n",
    "print(confusion_matrix(y_test, y_pred))\n",
    "\n",
    "# ROC/AUC\n",
    "y_proba = clf.predict_proba(X_test)[:,1]\n",
    "roc_auc = roc_auc_score(y_test, y_proba)\n",
    "print(\"ROC AUC:\", roc_auc)\n",
    "\n",
    "# ROC Curve\n",
    "fig, ax = plt.subplots()\n",
    "RocCurveDisplay.from_estimator(clf, X_test, y_test, ax=ax)\n",
    "save_figure(fig, \"model_eval\", \"random_forest_roc_curve\")"
   ]
  },
  {
   "cell_type": "code",
   "execution_count": null,
   "id": "a1872e8e",
   "metadata": {},
   "outputs": [],
   "source": [
    "#Cross-validation\n",
    "\n",
    "cv_scores = cross_val_score(clf, X, y, cv=5, scoring='roc_auc')\n",
    "print(\"Cross-validated AUC scores:\", cv_scores)\n",
    "print(\"Mean CV AUC:\", np.mean(cv_scores))"
   ]
  },
  {
   "cell_type": "code",
   "execution_count": null,
   "id": "f96f7b43",
   "metadata": {},
   "outputs": [],
   "source": [
    "#Feature Importances\n",
    "\n",
    "importances = clf.feature_importances_\n",
    "feat_df = pd.DataFrame({\"Feature\": features, \"Importance\": importances}).sort_values(\"Importance\", ascending=False)\n",
    "\n",
    "plt.figure(figsize=(7,4))\n",
    "sns.barplot(x=\"Importance\", y=\"Feature\", data=feat_df, palette=\"BuGn_d\")\n",
    "plt.title(\"Random Forest Feature Importances\")\n",
    "plt.tight_layout()\n",
    "plt.savefig(\"outputs/figures/model_eval/feature_importance.png\")\n",
    "plt.show()"
   ]
  }
 ],
 "metadata": {
  "kernelspec": {
   "display_name": "Python 3",
   "language": "python",
   "name": "python3"
  },
  "language_info": {
   "codemirror_mode": {
    "name": "ipython",
    "version": 3
   },
   "file_extension": ".py",
   "mimetype": "text/x-python",
   "name": "python",
   "nbconvert_exporter": "python",
   "pygments_lexer": "ipython3",
   "version": "3.12.10"
  }
 },
 "nbformat": 4,
 "nbformat_minor": 5
}
